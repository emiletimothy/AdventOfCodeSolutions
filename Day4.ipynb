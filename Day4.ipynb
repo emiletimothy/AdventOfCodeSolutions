{
 "cells": [
  {
   "cell_type": "code",
   "execution_count": 1,
   "metadata": {},
   "outputs": [],
   "source": [
    "import numpy as np"
   ]
  },
  {
   "cell_type": "markdown",
   "metadata": {},
   "source": [
    "## Part 1"
   ]
  },
  {
   "cell_type": "code",
   "execution_count": 2,
   "metadata": {},
   "outputs": [],
   "source": [
    "f = open(\"d4.txt\",\"r\").read().split(\"\\n\")\n",
    "exec('numbers=['+f[0]+']')"
   ]
  },
  {
   "cell_type": "code",
   "execution_count": 3,
   "metadata": {},
   "outputs": [],
   "source": [
    "def data(f):\n",
    "    bingos,current_bingo,counter=[],[],0\n",
    "    for i in f[2:]:\n",
    "        if i!='':\n",
    "            l=[]\n",
    "            for i in i.split(\" \"):\n",
    "                if i!=\"\":\n",
    "                    l.append(int(i))\n",
    "            if l!=[]:\n",
    "                current_bingo.append(l)\n",
    "        else:\n",
    "            bingos.append(current_bingo)\n",
    "            current_bingo=[]\n",
    "    bingos.append(current_bingo)\n",
    "    marked=[[[0for i in range(5)]for i in range(5)]for i in range(100)]\n",
    "    bingos=bingos[0:len(bingos)-1]\n",
    "    return bingos,marked"
   ]
  },
  {
   "cell_type": "code",
   "execution_count": 4,
   "metadata": {},
   "outputs": [
    {
     "data": {
      "text/plain": [
       "54275"
      ]
     },
     "execution_count": 4,
     "metadata": {},
     "output_type": "execute_result"
    }
   ],
   "source": [
    "def win(lst):\n",
    "    for i in range(5):\n",
    "        if sum(lst[i])==5:return True\n",
    "    for i in range(5):\n",
    "        if sum(np.array(lst)[:,i])==5:return True\n",
    "    return False\n",
    "\n",
    "def find_indexes(lst,num):\n",
    "    t=[]\n",
    "    for i in range(len(lst)):\n",
    "        for j in range(len(lst)):\n",
    "            if lst[i][j]==num:\n",
    "                t.append([i,j])\n",
    "    return t\n",
    "\n",
    "def find_score(mark, bingo, num):\n",
    "    return num*np.sum(bingo*(1-np.array(mark)))\n",
    "\n",
    "def play_bingo_to_win(numbers,marked,bingos):\n",
    "    for num in numbers:\n",
    "        for i in range(len(bingos)):\n",
    "            for [a,b] in find_indexes(bingos[i],num):\n",
    "                marked[i][a][b]=1\n",
    "            if win(marked[i]): return find_score(marked[i],bingos[i],num)\n",
    "\n",
    "bingos,marked=data(f)\n",
    "play_bingo_to_win(numbers,marked,bingos)"
   ]
  },
  {
   "cell_type": "markdown",
   "metadata": {},
   "source": [
    "## Part 2"
   ]
  },
  {
   "cell_type": "code",
   "execution_count": 5,
   "metadata": {},
   "outputs": [
    {
     "data": {
      "text/plain": [
       "13158"
      ]
     },
     "execution_count": 5,
     "metadata": {},
     "output_type": "execute_result"
    }
   ],
   "source": [
    "def remover(bingos,lst):\n",
    "    t=[]\n",
    "    for i in range(len(bingos)):\n",
    "        if i not in lst:\n",
    "            t.append(bingos[i])\n",
    "    return t\n",
    "\n",
    "def play_bingo_to_lose(numbers,marked,bingos):\n",
    "    for num in numbers:\n",
    "        remove=[]\n",
    "        for i in range(len(bingos)):\n",
    "            for [a,b] in find_indexes(bingos[i],num):\n",
    "                marked[i][a][b]=1\n",
    "            if win(marked[i]):\n",
    "                remove.append(i)\n",
    "            if len(bingos)==1: return find_score(marked[i],bingos[i],num)\n",
    "        bingos,marked=remover(bingos,remove),remover(marked,remove)\n",
    "\n",
    "bingos,marked=data(f)\n",
    "play_bingo_to_lose(numbers,marked,bingos)"
   ]
  }
 ],
 "metadata": {
  "kernelspec": {
   "display_name": "Python 3",
   "language": "python",
   "name": "python3"
  },
  "language_info": {
   "codemirror_mode": {
    "name": "ipython",
    "version": 3
   },
   "file_extension": ".py",
   "mimetype": "text/x-python",
   "name": "python",
   "nbconvert_exporter": "python",
   "pygments_lexer": "ipython3",
   "version": "3.7.6"
  }
 },
 "nbformat": 4,
 "nbformat_minor": 4
}
