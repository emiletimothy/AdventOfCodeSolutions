{
 "cells": [
  {
   "cell_type": "code",
   "execution_count": 106,
   "metadata": {},
   "outputs": [],
   "source": [
    "import numpy as np\n",
    "from collections import deque"
   ]
  },
  {
   "cell_type": "code",
   "execution_count": 107,
   "metadata": {},
   "outputs": [],
   "source": [
    "data=open(\"d10.txt\",\"r\").read().split(\"\\n\")[:-1]"
   ]
  },
  {
   "cell_type": "markdown",
   "metadata": {},
   "source": [
    "## Part 1"
   ]
  },
  {
   "cell_type": "code",
   "execution_count": 116,
   "metadata": {},
   "outputs": [],
   "source": [
    "inc,ouc=['[','{','<','('],[']','}','>',')']\n",
    "\n",
    "def flip(i):\n",
    "    return '('*(i==')') + '{'*(i=='}') + '['*(i==']') + '<'*(i=='>') + ')'*(i=='(') + '}'*(i=='{') + ']'*(i=='[')+'>'*(i=='<')\n",
    "\n",
    "def find_invalid_score(s):\n",
    "    flag,deque=True,([])\n",
    "    for i in s:\n",
    "        if i in inc:\n",
    "            deque.extend([(i)])\n",
    "        if i in ouc:\n",
    "            t=deque.pop()\n",
    "            i=flip(i)\n",
    "            if t!=i:\n",
    "                # print(\"Expected \" + flip(t) + \" Found \" + flip(i) + \" instead.\\n\")\n",
    "                flag=False\n",
    "                break\n",
    "    if flag==True:\n",
    "        return 0\n",
    "    return 3*(i=='(')+57*(i=='[')+1197*(i=='{')+25137*(i=='<')"
   ]
  },
  {
   "cell_type": "code",
   "execution_count": 117,
   "metadata": {},
   "outputs": [
    {
     "data": {
      "text/plain": [
       "387363"
      ]
     },
     "execution_count": 117,
     "metadata": {},
     "output_type": "execute_result"
    }
   ],
   "source": [
    "sum([find_invalid_score(line) for line in data])"
   ]
  },
  {
   "cell_type": "markdown",
   "metadata": {},
   "source": [
    "## Part 2"
   ]
  },
  {
   "cell_type": "code",
   "execution_count": 143,
   "metadata": {},
   "outputs": [
    {
     "data": {
      "text/plain": [
       "4330777059.0"
      ]
     },
     "execution_count": 143,
     "metadata": {},
     "output_type": "execute_result"
    }
   ],
   "source": [
    "def autocomplete(s):\n",
    "    if find_invalid_score(s)!=0:\n",
    "        return 0\n",
    "    \n",
    "    t=deque([])\n",
    "    for i in s:\n",
    "        if i in inc:\n",
    "            t.extend([(i)])\n",
    "        if i in ouc:\n",
    "            t.pop() \n",
    "    \n",
    "    c=''\n",
    "    while t:\n",
    "        c+=flip(t.pop())\n",
    "        \n",
    "    score=0\n",
    "    for i in c:\n",
    "        score*=5\n",
    "        score+=1*(')'==i)+2*(']'==i)+3*('}'==i)+4*('>'==i)\n",
    "    return score\n",
    "        \n",
    "autocomplete_scores=[]\n",
    "for i in data:\n",
    "    l=autocomplete(i)\n",
    "    if l!=0:\n",
    "        autocomplete_scores.append(l)\n",
    "autocomplete_scores.sort()\n",
    "\n",
    "np.median(autocomplete_scores)"
   ]
  }
 ],
 "metadata": {
  "kernelspec": {
   "display_name": "Python 3",
   "language": "python",
   "name": "python3"
  },
  "language_info": {
   "codemirror_mode": {
    "name": "ipython",
    "version": 3
   },
   "file_extension": ".py",
   "mimetype": "text/x-python",
   "name": "python",
   "nbconvert_exporter": "python",
   "pygments_lexer": "ipython3",
   "version": "3.7.6"
  }
 },
 "nbformat": 4,
 "nbformat_minor": 4
}
