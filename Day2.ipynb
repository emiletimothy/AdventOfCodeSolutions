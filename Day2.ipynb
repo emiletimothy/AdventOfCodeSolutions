{
 "cells": [
  {
   "cell_type": "code",
   "execution_count": 1,
   "metadata": {},
   "outputs": [],
   "source": [
    "import numpy as np"
   ]
  },
  {
   "cell_type": "code",
   "execution_count": 48,
   "metadata": {},
   "outputs": [],
   "source": [
    "t=open(\"d2.txt\",\"r\").read().split('\\n')\n",
    "for i in range(len(t)):\n",
    "    t[i]=t[i].split(' ')"
   ]
  },
  {
   "cell_type": "markdown",
   "metadata": {},
   "source": [
    "## Part 1"
   ]
  },
  {
   "cell_type": "code",
   "execution_count": 51,
   "metadata": {},
   "outputs": [
    {
     "name": "stdout",
     "output_type": "stream",
     "text": [
      "1561344\n"
     ]
    }
   ],
   "source": [
    "h,d=0,0\n",
    "for i in t:\n",
    "    if i[0]=='forward':\n",
    "        h+=int(i[1])\n",
    "    if i[0]=='up':\n",
    "        d-=int(i[1])\n",
    "    if i[0]=='down':\n",
    "        d+=int(i[1])\n",
    "print(h*d)"
   ]
  },
  {
   "cell_type": "markdown",
   "metadata": {},
   "source": [
    "## Part 2"
   ]
  },
  {
   "cell_type": "code",
   "execution_count": 52,
   "metadata": {},
   "outputs": [
    {
     "name": "stdout",
     "output_type": "stream",
     "text": [
      "1848454425\n"
     ]
    }
   ],
   "source": [
    "h,d,a=0,0,0\n",
    "for i in t:\n",
    "    if i[0]=='forward':\n",
    "        h+=int(i[1])\n",
    "        d+=a*int(i[1])\n",
    "    if i[0]=='up':\n",
    "        a-=int(i[1])\n",
    "    if i[0]=='down':\n",
    "        a+=int(i[1])\n",
    "print(h*d)"
   ]
  }
 ],
 "metadata": {
  "kernelspec": {
   "display_name": "Python 3",
   "language": "python",
   "name": "python3"
  },
  "language_info": {
   "codemirror_mode": {
    "name": "ipython",
    "version": 3
   },
   "file_extension": ".py",
   "mimetype": "text/x-python",
   "name": "python",
   "nbconvert_exporter": "python",
   "pygments_lexer": "ipython3",
   "version": "3.7.6"
  }
 },
 "nbformat": 4,
 "nbformat_minor": 4
}
