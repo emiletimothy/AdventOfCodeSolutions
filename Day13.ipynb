{
 "cells": [
  {
   "cell_type": "code",
   "execution_count": 68,
   "metadata": {},
   "outputs": [],
   "source": [
    "import numpy as np"
   ]
  },
  {
   "cell_type": "code",
   "execution_count": 69,
   "metadata": {},
   "outputs": [],
   "source": [
    "f=open(\"d13.txt\",\"r\").read().split('\\n')[:-1]\n",
    "points=np.array([[int(x[0]),int(x[1])] for x in [p.split(',') for p in f[:-13]]])\n",
    "instructions=[i[11:].split('=') for i in f[len(f)-12:]]\n",
    "x=np.array([['.' for i in range(np.max(points[:,1])+1)] for j in range(np.max(points[:,0])+1)])\n",
    "for i,j in points:\n",
    "    x[i][j]='#'\n",
    "x=np.transpose(x)"
   ]
  },
  {
   "cell_type": "markdown",
   "metadata": {},
   "source": [
    "## Part 1"
   ]
  },
  {
   "cell_type": "code",
   "execution_count": 70,
   "metadata": {},
   "outputs": [],
   "source": [
    "def foldx(x,num):\n",
    "    x1,y1=np.where('#'==x)\n",
    "    for xi,yi in zip(x1,y1):\n",
    "        if yi>num:\n",
    "            x[xi][2*num-yi]='#'\n",
    "    return x[:,:num]\n",
    "\n",
    "def foldy(x,num):\n",
    "    x1,y1=np.where('#'==x)\n",
    "    for xi,yi in zip(x1,y1):\n",
    "        if xi>num:\n",
    "            x[2*num-xi][yi]='#'\n",
    "    return x[0:num]\n",
    "\n",
    "def visible(x):\n",
    "    return np.sum([[1*(x[i][j]=='#') for j in range(len(x[0]))] for i in range(len(x))])"
   ]
  },
  {
   "cell_type": "code",
   "execution_count": 71,
   "metadata": {},
   "outputs": [
    {
     "data": {
      "text/plain": [
       "795"
      ]
     },
     "execution_count": 71,
     "metadata": {},
     "output_type": "execute_result"
    }
   ],
   "source": [
    "def make_fold(x,char,num):\n",
    "    if char=='x':\n",
    "        x1=foldx(np.copy(x),num)\n",
    "    if char=='y':\n",
    "        x1=foldy(np.copy(x),num)\n",
    "    return x1\n",
    "\n",
    "visible(make_fold(x,instructions[0][0],int(instructions[0][1])))"
   ]
  },
  {
   "cell_type": "markdown",
   "metadata": {},
   "source": [
    "## Part 2"
   ]
  },
  {
   "cell_type": "code",
   "execution_count": 65,
   "metadata": {},
   "outputs": [
    {
     "name": "stdout",
     "output_type": "stream",
     "text": [
      ".##..####...##.#..#.#....#..#..##....##.\n",
      "#..#.#.......#.#.#..#....#..#.#..#....#.\n",
      "#....###.....#.##...#....#..#.#.......#.\n",
      "#....#.......#.#.#..#....#..#.#.##....#.\n",
      "#..#.#....#..#.#.#..#....#..#.#..#.#..#.\n",
      ".##..####..##..#..#.####..##...###..##..\n"
     ]
    }
   ],
   "source": [
    "def display(x):\n",
    "    for row in x:\n",
    "        print(\"\".join(row))\n",
    "\n",
    "for instruction in instructions:\n",
    "    x=make_fold(x,instruction[0],int(instruction[1]))\n",
    "display(x)"
   ]
  }
 ],
 "metadata": {
  "kernelspec": {
   "display_name": "Python 3",
   "language": "python",
   "name": "python3"
  },
  "language_info": {
   "codemirror_mode": {
    "name": "ipython",
    "version": 3
   },
   "file_extension": ".py",
   "mimetype": "text/x-python",
   "name": "python",
   "nbconvert_exporter": "python",
   "pygments_lexer": "ipython3",
   "version": "3.7.6"
  }
 },
 "nbformat": 4,
 "nbformat_minor": 4
}
