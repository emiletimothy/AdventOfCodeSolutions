{
 "cells": [
  {
   "cell_type": "code",
   "execution_count": 1,
   "metadata": {},
   "outputs": [],
   "source": [
    "import numpy as np\n",
    "from collections import defaultdict"
   ]
  },
  {
   "cell_type": "code",
   "execution_count": 2,
   "metadata": {},
   "outputs": [],
   "source": [
    "d=defaultdict(list)\n",
    "f=[i.split('-') for i in open(\"d12.txt\",\"r\").read().split()]\n",
    "for a,b in f:\n",
    "    if b!='start':\n",
    "        d[a].append(b)\n",
    "    if a!='start':\n",
    "        d[b].append(a)\n",
    "del d['end']"
   ]
  },
  {
   "cell_type": "markdown",
   "metadata": {},
   "source": [
    "## Part 1"
   ]
  },
  {
   "cell_type": "code",
   "execution_count": 13,
   "metadata": {},
   "outputs": [
    {
     "data": {
      "text/plain": [
       "3495"
      ]
     },
     "execution_count": 13,
     "metadata": {},
     "output_type": "execute_result"
    }
   ],
   "source": [
    "def recurse1(d,path=['start']):\n",
    "    paths=0\n",
    "    for loc in d[path[-1]]:\n",
    "        if loc.isupper() or loc not in path:\n",
    "            if loc =='end':\n",
    "                paths += 1\n",
    "            else:\n",
    "                paths += recurse1(d,path+[loc])\n",
    "    return paths\n",
    "\n",
    "recurse1(d)"
   ]
  },
  {
   "cell_type": "markdown",
   "metadata": {},
   "source": [
    "## Part 2"
   ]
  },
  {
   "cell_type": "code",
   "execution_count": 18,
   "metadata": {},
   "outputs": [
    {
     "data": {
      "text/plain": [
       "94849"
      ]
     },
     "execution_count": 18,
     "metadata": {},
     "output_type": "execute_result"
    }
   ],
   "source": [
    "def recurse2(d, path=['start']):\n",
    "    paths = 0\n",
    "    for loc in d[path[-1]]:\n",
    "        if loc=='end':\n",
    "            paths += 1\n",
    "        else:\n",
    "            if loc.islower() and loc in path:\n",
    "                paths += recurse1(d, path + [loc])\n",
    "            else:\n",
    "                paths += recurse2(d,path+[loc])\n",
    "    return paths\n",
    "\n",
    "recurse2(d)"
   ]
  }
 ],
 "metadata": {
  "kernelspec": {
   "display_name": "Python 3",
   "language": "python",
   "name": "python3"
  },
  "language_info": {
   "codemirror_mode": {
    "name": "ipython",
    "version": 3
   },
   "file_extension": ".py",
   "mimetype": "text/x-python",
   "name": "python",
   "nbconvert_exporter": "python",
   "pygments_lexer": "ipython3",
   "version": "3.7.6"
  }
 },
 "nbformat": 4,
 "nbformat_minor": 4
}
