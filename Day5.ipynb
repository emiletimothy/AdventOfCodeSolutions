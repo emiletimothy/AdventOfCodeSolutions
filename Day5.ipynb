{
 "cells": [
  {
   "cell_type": "code",
   "execution_count": 1,
   "metadata": {},
   "outputs": [],
   "source": [
    "import numpy as np"
   ]
  },
  {
   "cell_type": "code",
   "execution_count": 2,
   "metadata": {},
   "outputs": [],
   "source": [
    "f = open(\"d5.txt\",\"r\").read().split(\"\\n\")\n",
    "points=[]\n",
    "for i in f:\n",
    "    if i==\"\":\n",
    "        break\n",
    "    p1,p2=i.split(\" -> \")[0].split(\",\"),i.split(\" -> \")[1].split(\",\")\n",
    "    points.append([[int(p1[0]),int(p1[1])],[int(p2[0]),int(p2[1])]])"
   ]
  },
  {
   "cell_type": "markdown",
   "metadata": {},
   "source": [
    "## Part 1"
   ]
  },
  {
   "cell_type": "code",
   "execution_count": 3,
   "metadata": {},
   "outputs": [
    {
     "name": "stdout",
     "output_type": "stream",
     "text": [
      "5585\n"
     ]
    }
   ],
   "source": [
    "def gen1_filter(lst):\n",
    "    pts=[]\n",
    "    for p1,p2 in lst:\n",
    "        if p2[1]==p1[1]or p1[0]==p2[0]:\n",
    "            pts.append([p1,p2])\n",
    "    return pts\n",
    "\n",
    "def gen1(pt):\n",
    "    x1,x2,y1,y2=pt[0][0],pt[1][0],pt[0][1],pt[1][1]\n",
    "    if x1==x2:\n",
    "        if y1>y2:\n",
    "            return[[x1,i]for i in range(y2,y1+1,1)]\n",
    "        return[[x1,i]for i in range(y1,y2+1,1)]\n",
    "    if y1==y2:\n",
    "        if x1>x2:\n",
    "            return[[i,y1]for i in range(x2,x1+1,1)]\n",
    "        return[[i,y1]for i in range(x1,x2+1,1)]\n",
    "    \n",
    "filt1=gen1_filter(points)\n",
    "lst=np.zeros((np.max(filt1)+1,np.max(filt1)+1))\n",
    "for point in filt1:\n",
    "    for pt in gen1(point):\n",
    "        lst[pt[0]][pt[1]]+=1\n",
    "print(np.sum([[1*(lst[i][j]>1) for i in range(len(lst))] for j in range(len(lst))]))"
   ]
  },
  {
   "cell_type": "markdown",
   "metadata": {},
   "source": [
    "## Part 2"
   ]
  },
  {
   "cell_type": "code",
   "execution_count": 4,
   "metadata": {},
   "outputs": [
    {
     "name": "stdout",
     "output_type": "stream",
     "text": [
      "17193\n"
     ]
    }
   ],
   "source": [
    "def gen2(pt):\n",
    "    x1,x2,y1,y2=pt[0][0],pt[1][0],pt[0][1],pt[1][1]\n",
    "    if x1==x2:\n",
    "        if y1>y2:\n",
    "            return [[x1,i] for i in range(y2,y1+1,1)]\n",
    "        return [[x1,i] for i in range(y1,y2+1,1)]\n",
    "    if y1==y2:\n",
    "        if x1>x2:\n",
    "            return [[i,y1] for i in range(x2,x1+1,1)]\n",
    "        return [[i,y1] for i in range(x1,x2+1,1)]\n",
    "    a1=min(x1,x2)\n",
    "    if a1==x1: a2,b1,b2=x2,y1,y2\n",
    "    if a1==x2: a2,b1,b2=x1,y2,y1\n",
    "    if b1>b2: return [[a1+i,b1-i] for i in range(a2-a1+1)]\n",
    "    return [[a1+i,b1+i] for i in range(a2-a1+1)]\n",
    "\n",
    "lst=np.zeros((np.max(points)+1,np.max(points)+1))\n",
    "for point in points:\n",
    "    for pt in gen2(point):\n",
    "        lst[pt[0]][pt[1]]+=1\n",
    "print(np.sum([[1*(lst[i][j]>1) for i in range(len(lst))] for j in range(len(lst))]))"
   ]
  }
 ],
 "metadata": {
  "kernelspec": {
   "display_name": "Python 3",
   "language": "python",
   "name": "python3"
  },
  "language_info": {
   "codemirror_mode": {
    "name": "ipython",
    "version": 3
   },
   "file_extension": ".py",
   "mimetype": "text/x-python",
   "name": "python",
   "nbconvert_exporter": "python",
   "pygments_lexer": "ipython3",
   "version": "3.7.6"
  }
 },
 "nbformat": 4,
 "nbformat_minor": 4
}
