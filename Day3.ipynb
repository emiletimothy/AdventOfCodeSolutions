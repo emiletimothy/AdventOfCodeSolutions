{
 "cells": [
  {
   "cell_type": "code",
   "execution_count": 11,
   "metadata": {},
   "outputs": [],
   "source": [
    "import numpy as np"
   ]
  },
  {
   "cell_type": "code",
   "execution_count": 12,
   "metadata": {},
   "outputs": [],
   "source": [
    "data=np.loadtxt(\"d3.txt\",str)\n",
    "def argmax(t):return int(\"\".join([str(np.argmax(f))for f in t]),2)\n",
    "def argmin(t):return int(\"\".join([str(np.argmin(f))for f in t]),2)\n",
    "def o(e):return 1*(e[0]<=e[1])\n",
    "def c(e):return 1*(e[0]>e[1])"
   ]
  },
  {
   "cell_type": "markdown",
   "metadata": {},
   "source": [
    "### Part 1"
   ]
  },
  {
   "cell_type": "code",
   "execution_count": 13,
   "metadata": {},
   "outputs": [
    {
     "data": {
      "text/plain": [
       "845186"
      ]
     },
     "execution_count": 13,
     "metadata": {},
     "output_type": "execute_result"
    }
   ],
   "source": [
    "exec(\"d=[[len(data)-$,$]for i in range(12)]\".replace(\"$\",\"sum([int(j[i])for j in data])\"))\n",
    "argmax(d)*argmin(d)"
   ]
  },
  {
   "cell_type": "markdown",
   "metadata": {},
   "source": [
    "### Part 2"
   ]
  },
  {
   "cell_type": "code",
   "execution_count": 14,
   "metadata": {},
   "outputs": [
    {
     "data": {
      "text/plain": [
       "4636702"
      ]
     },
     "execution_count": 14,
     "metadata": {},
     "output_type": "execute_result"
    }
   ],
   "source": [
    "def cond(lst,func):\n",
    "    for i in range(12):\n",
    "        if len(lst)==1:\n",
    "            break\n",
    "        dprime=[]\n",
    "        for j in lst:\n",
    "            a=sum([int(j[i]) for j in lst])\n",
    "            if j[i]==str(func([len(lst)-a,a])):\n",
    "                dprime.append(j)\n",
    "        lst=dprime\n",
    "    return int(lst[0],2)\n",
    "\n",
    "cond(data,o)*cond(data,c)"
   ]
  }
 ],
 "metadata": {
  "kernelspec": {
   "display_name": "Python 3",
   "language": "python",
   "name": "python3"
  },
  "language_info": {
   "codemirror_mode": {
    "name": "ipython",
    "version": 3
   },
   "file_extension": ".py",
   "mimetype": "text/x-python",
   "name": "python",
   "nbconvert_exporter": "python",
   "pygments_lexer": "ipython3",
   "version": "3.7.6"
  }
 },
 "nbformat": 4,
 "nbformat_minor": 4
}
