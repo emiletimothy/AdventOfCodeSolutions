{
 "cells": [
  {
   "cell_type": "code",
   "execution_count": 1,
   "metadata": {},
   "outputs": [],
   "source": [
    "import numpy as np"
   ]
  },
  {
   "cell_type": "code",
   "execution_count": 17,
   "metadata": {},
   "outputs": [],
   "source": [
    "f=open(\"d8.txt\",\"r\").read().split('\\n')[:-1]\n",
    "t=[[i.split(\" | \")[0].split(\" \"),i.split(\" | \")[1].split(\" \")] for i in f]"
   ]
  },
  {
   "cell_type": "markdown",
   "metadata": {},
   "source": [
    "## Part 1"
   ]
  },
  {
   "cell_type": "code",
   "execution_count": 3,
   "metadata": {},
   "outputs": [
    {
     "data": {
      "text/plain": [
       "543"
      ]
     },
     "execution_count": 3,
     "metadata": {},
     "output_type": "execute_result"
    }
   ],
   "source": [
    "y=[]\n",
    "for i in t:\n",
    "    for j in i[1]:y.append(j)\n",
    "sum([(len(i) in [2,3,4,7])*1 for i in y])"
   ]
  },
  {
   "cell_type": "markdown",
   "metadata": {},
   "source": [
    "## Part 2"
   ]
  },
  {
   "cell_type": "code",
   "execution_count": 37,
   "metadata": {},
   "outputs": [
    {
     "data": {
      "text/plain": [
       "994266"
      ]
     },
     "execution_count": 37,
     "metadata": {},
     "output_type": "execute_result"
    }
   ],
   "source": [
    "def classify(entry):\n",
    "    a1,q=entry\n",
    "    a1.sort(key=len)\n",
    "    \n",
    "    # Known values\n",
    "    one=[i for i in a1[0]]\n",
    "    four=[i for i in a1[2]]\n",
    "    seven=[i for i in a1[1]]\n",
    "    eight=[i for i in a1[9]]\n",
    "    \n",
    "    # Frequency analysis to find analogs for c, f, and a\n",
    "    cf={one[0]:sum([1*(one[0] in i) for i in a1]),one[1]:sum([1*(one[1] in i) for i in a1])}\n",
    "    f=max(cf,key=cf.get)\n",
    "    c=min(cf,key=cf.get)\n",
    "    a=list(set(seven)-set(f)-set(c))[0]\n",
    "    \n",
    "    # Frequency analysis to find analogs for b and d\n",
    "    bd=list(set(four)-set(one))\n",
    "    bd1={bd[0]:sum([1*(bd[0] in i) for i in a1]),bd[1]:sum([1*(bd[1] in i) for i in a1])}\n",
    "    b=min(bd1,key=bd1.get)\n",
    "    d=max(bd1,key=bd1.get)\n",
    "    \n",
    "    # Frequency analysis to find analogs for e and g\n",
    "    eg=list(set(eight)-set(f)-set(c)-set(a)-set(b)-set(d))\n",
    "    eg1={eg[0]:sum([1*(eg[0] in i) for i in a1]),eg[1]:sum([1*(eg[1] in i) for i in a1])}\n",
    "    g=max(eg1,key=eg1.get)\n",
    "    e=min(eg1,key=eg1.get)\n",
    "    \n",
    "    # Setwise comparison to classify numbers from their characters\n",
    "    def classify_number(l):\n",
    "        if set([i for i in l])==set([a,b,c,e,f,g]):\n",
    "            return 0\n",
    "        if set([i for i in l])==set([c,f]):\n",
    "            return 1\n",
    "        if set([i for i in l])==set([a,c,d,e,g]):\n",
    "            return 2\n",
    "        if set([i for i in l])==set([a,c,d,f,g]):\n",
    "            return 3\n",
    "        if set([i for i in l])==set([b,c,d,f]):\n",
    "            return 4\n",
    "        if set([i for i in l])==set([a,b,d,f,g]):\n",
    "            return 5\n",
    "        if set([i for i in l])==set([a,b,d,e,f,g]):\n",
    "            return 6\n",
    "        if set([i for i in l])==set([a,c,f]):\n",
    "            return 7\n",
    "        if set([i for i in l])==set([a,b,c,d,e,f,g]):\n",
    "            return 8\n",
    "        if set([i for i in l])==set([a,b,c,d,f,g]):\n",
    "            return 9\n",
    "    \n",
    "    # Concatenation of corresponding numbers after the delimiter\n",
    "    return int(\"\".join([str(classify_number(i)) for i in q]))\n",
    "\n",
    "sum([classify(i) for i in t])"
   ]
  }
 ],
 "metadata": {
  "kernelspec": {
   "display_name": "Python 3",
   "language": "python",
   "name": "python3"
  },
  "language_info": {
   "codemirror_mode": {
    "name": "ipython",
    "version": 3
   },
   "file_extension": ".py",
   "mimetype": "text/x-python",
   "name": "python",
   "nbconvert_exporter": "python",
   "pygments_lexer": "ipython3",
   "version": "3.7.6"
  }
 },
 "nbformat": 4,
 "nbformat_minor": 4
}
