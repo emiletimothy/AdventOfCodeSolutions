{
 "cells": [
  {
   "cell_type": "code",
   "execution_count": 127,
   "metadata": {},
   "outputs": [],
   "source": [
    "import numpy as np"
   ]
  },
  {
   "cell_type": "code",
   "execution_count": 128,
   "metadata": {},
   "outputs": [],
   "source": [
    "t=np.array([int(i)for i in open(\"d7.txt\",\"r\").read()[:-1].split(\",\")])"
   ]
  },
  {
   "cell_type": "markdown",
   "metadata": {},
   "source": [
    "## Day 1"
   ]
  },
  {
   "cell_type": "code",
   "execution_count": 129,
   "metadata": {},
   "outputs": [
    {
     "name": "stdout",
     "output_type": "stream",
     "text": [
      "Ideal position = 352.0\n",
      "Cost = 336131\n"
     ]
    }
   ],
   "source": [
    "print(\"Ideal position =\",np.median(t))\n",
    "print(\"Cost =\",int(np.sum(np.abs(t-np.median(t)))))"
   ]
  },
  {
   "cell_type": "markdown",
   "metadata": {},
   "source": [
    "## Day 2"
   ]
  },
  {
   "cell_type": "code",
   "execution_count": 130,
   "metadata": {},
   "outputs": [
    {
     "name": "stdout",
     "output_type": "stream",
     "text": [
      "Ideal position = 473\n",
      "Cost = 92676646\n"
     ]
    }
   ],
   "source": [
    "l=[np.sum([np.abs(i-j)*(np.abs(i-j)+1)/2for j in t])for i in range(np.max(t))]\n",
    "print(\"Ideal position =\",np.argmin(l))\n",
    "print(\"Cost =\",int(np.min(l)))"
   ]
  }
 ],
 "metadata": {
  "kernelspec": {
   "display_name": "Python 3",
   "language": "python",
   "name": "python3"
  },
  "language_info": {
   "codemirror_mode": {
    "name": "ipython",
    "version": 3
   },
   "file_extension": ".py",
   "mimetype": "text/x-python",
   "name": "python",
   "nbconvert_exporter": "python",
   "pygments_lexer": "ipython3",
   "version": "3.7.6"
  }
 },
 "nbformat": 4,
 "nbformat_minor": 4
}
