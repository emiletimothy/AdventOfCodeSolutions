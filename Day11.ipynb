{
 "cells": [
  {
   "cell_type": "code",
   "execution_count": 61,
   "metadata": {},
   "outputs": [],
   "source": [
    "import numpy as np\n",
    "from collections import deque"
   ]
  },
  {
   "cell_type": "code",
   "execution_count": 63,
   "metadata": {},
   "outputs": [],
   "source": [
    "f=open(\"d11.txt\",\"r\").read().split()"
   ]
  },
  {
   "cell_type": "markdown",
   "metadata": {},
   "source": [
    "## Part 1"
   ]
  },
  {
   "cell_type": "code",
   "execution_count": 52,
   "metadata": {},
   "outputs": [],
   "source": [
    "def surroundings(xt,yt,d):\n",
    "    p=[]\n",
    "    if xt>0:\n",
    "        p.append((xt-1,yt))\n",
    "        if yt>0:\n",
    "            p.append((xt-1,yt-1))\n",
    "        if yt<len(d)-1:\n",
    "            p.append((xt-1,yt+1)) \n",
    "    if xt<len(d)-1:\n",
    "        p.append((xt+1,yt))\n",
    "        if yt<len(d)-1:\n",
    "            p.append((xt+1,yt+1)) \n",
    "        if yt>0:\n",
    "            p.append((xt+1,yt-1))    \n",
    "    if yt>0:\n",
    "        p.append((xt,yt-1))\n",
    "    if yt<len(d)-1:\n",
    "        p.append((xt,yt+1))\n",
    "    return p\n",
    "    \n",
    "def iteration(d):\n",
    "    flashes=0\n",
    "    t=deque([])\n",
    "    d+=1\n",
    "    flashed=[[False for i in range(len(d))] for j in range(len(d))]\n",
    "    \n",
    "    for i in range(len(d)):\n",
    "        for j in range(len(d)):\n",
    "            if d[i][j]>9:\n",
    "                t.extend([(i,j)])\n",
    "    while t:\n",
    "        xt,yt=t.pop()\n",
    "        if flashed[xt][yt]==True:\n",
    "             continue\n",
    "        p=surroundings(xt,yt,d)\n",
    "        flashed[xt][yt]=True\n",
    "        flashes+=1\n",
    "        for xi,yi in p:\n",
    "            d[xi][yi]+=1\n",
    "            if d[xi][yi]>9 and flashed[xi][yi]==False:\n",
    "                t.extend([(xi,yi)])\n",
    "\n",
    "    for i in range(len(d)):\n",
    "        for j in range(len(d)):\n",
    "            if d[i][j]>9:\n",
    "                d[i][j]=0\n",
    "    return d,flashes\n",
    "\n",
    "def n_iterations(d,n):\n",
    "    flash=0\n",
    "    for i in range(n):\n",
    "        d,flashes=iteration(d)\n",
    "        flash+=flashes\n",
    "    return flash"
   ]
  },
  {
   "cell_type": "code",
   "execution_count": 66,
   "metadata": {},
   "outputs": [
    {
     "data": {
      "text/plain": [
       "1702"
      ]
     },
     "execution_count": 66,
     "metadata": {},
     "output_type": "execute_result"
    }
   ],
   "source": [
    "data=np.array([[int(i) for i in f[j]] for j in range(len(f))])\n",
    "n_iterations(data,100)"
   ]
  },
  {
   "cell_type": "markdown",
   "metadata": {},
   "source": [
    "## Part 2"
   ]
  },
  {
   "cell_type": "code",
   "execution_count": 77,
   "metadata": {},
   "outputs": [
    {
     "data": {
      "text/plain": [
       "251"
      ]
     },
     "execution_count": 77,
     "metadata": {},
     "output_type": "execute_result"
    }
   ],
   "source": [
    "def all_flashed(x):\n",
    "    return x==np.zeros((len(x),len(x)))\n",
    "\n",
    "def n_new_iterations(d,n):\n",
    "    flash=0\n",
    "    for i in range(n):\n",
    "        d,flashes=iteration(d)\n",
    "        flash+=flashes\n",
    "        if all_flashed(d).all():\n",
    "            return i+1\n",
    "    return -1\n",
    "\n",
    "data=np.array([[int(i) for i in f[j]] for j in range(len(f))])\n",
    "n_new_iterations(data,500)"
   ]
  }
 ],
 "metadata": {
  "kernelspec": {
   "display_name": "Python 3",
   "language": "python",
   "name": "python3"
  },
  "language_info": {
   "codemirror_mode": {
    "name": "ipython",
    "version": 3
   },
   "file_extension": ".py",
   "mimetype": "text/x-python",
   "name": "python",
   "nbconvert_exporter": "python",
   "pygments_lexer": "ipython3",
   "version": "3.7.6"
  }
 },
 "nbformat": 4,
 "nbformat_minor": 4
}
