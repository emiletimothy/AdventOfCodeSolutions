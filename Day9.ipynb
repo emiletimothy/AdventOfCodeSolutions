{
 "cells": [
  {
   "cell_type": "code",
   "execution_count": 85,
   "metadata": {},
   "outputs": [],
   "source": [
    "import numpy as np\n",
    "from collections import deque"
   ]
  },
  {
   "cell_type": "code",
   "execution_count": 67,
   "metadata": {},
   "outputs": [],
   "source": [
    "data=np.array([[int(x) for x in i] for i in open(\"d9.txt\",\"r\").read().split(\"\\n\")[:-1]])"
   ]
  },
  {
   "cell_type": "markdown",
   "metadata": {},
   "source": [
    "## Part 1"
   ]
  },
  {
   "cell_type": "code",
   "execution_count": 78,
   "metadata": {},
   "outputs": [
    {
     "data": {
      "text/plain": [
       "491"
      ]
     },
     "execution_count": 78,
     "metadata": {},
     "output_type": "execute_result"
    }
   ],
   "source": [
    "low_points=[]\n",
    "low_coordinates=[]\n",
    "for i in range(len(data)):\n",
    "    for j in range(len(data[0])):\n",
    "        char=data[i][j]\n",
    "        if i!=0:\n",
    "            if data[i-1][j]<=char: continue\n",
    "        if i!=len(data[0])-1:\n",
    "            if data[i+1][j]<=char: continue\n",
    "        if j!=0:\n",
    "            if data[i][j-1]<=char: continue\n",
    "        if j!=len(data)-1:\n",
    "            if data[i][j+1]<=char: continue\n",
    "        low_points.append(char)\n",
    "        low_coordinates.append([i,j])\n",
    "        \n",
    "risk_level=[1+k for k in low_points]\n",
    "sum(risk_level)"
   ]
  },
  {
   "cell_type": "markdown",
   "metadata": {},
   "source": [
    "## Part 2"
   ]
  },
  {
   "cell_type": "code",
   "execution_count": 116,
   "metadata": {},
   "outputs": [],
   "source": [
    "#note that there will NEVER be >1 0/cluster so two-pointer\n",
    "def find_basin(point):\n",
    "    x,y=point\n",
    "    basin=[]\n",
    "    visited=set()\n",
    "    queue=deque([(x,y)])\n",
    "    while queue:\n",
    "        xt,yt=queue.pop()\n",
    "        if (xt,yt) in visited:\n",
    "            continue\n",
    "        visited.add((xt,yt))\n",
    "        if data[xt][yt]!=9:\n",
    "            basin.append((xt,yt))\n",
    "            if xt!=0:\n",
    "                queue.extend([(xt-1,yt)])\n",
    "            if yt!=0:\n",
    "                queue.extend([(xt,yt-1)])\n",
    "            if xt!=len(data[0])-1:\n",
    "                queue.extend([(xt+1,yt)])\n",
    "            if yt!=len(data)-1:\n",
    "                queue.extend([(xt,yt+1)])\n",
    "    return len(basin)"
   ]
  },
  {
   "cell_type": "code",
   "execution_count": 124,
   "metadata": {},
   "outputs": [
    {
     "data": {
      "text/plain": [
       "1075536"
      ]
     },
     "execution_count": 124,
     "metadata": {},
     "output_type": "execute_result"
    }
   ],
   "source": [
    "basin_sizes=[find_basin(t) for t in low_coordinates]\n",
    "basin_sizes.sort(reverse=True)\n",
    "basin_sizes[0]*basin_sizes[1]*basin_sizes[2]"
   ]
  }
 ],
 "metadata": {
  "kernelspec": {
   "display_name": "Python 3",
   "language": "python",
   "name": "python3"
  },
  "language_info": {
   "codemirror_mode": {
    "name": "ipython",
    "version": 3
   },
   "file_extension": ".py",
   "mimetype": "text/x-python",
   "name": "python",
   "nbconvert_exporter": "python",
   "pygments_lexer": "ipython3",
   "version": "3.7.6"
  }
 },
 "nbformat": 4,
 "nbformat_minor": 4
}
